{
 "cells": [
  {
   "cell_type": "markdown",
   "id": "9df9fce2",
   "metadata": {},
   "source": [
    "# Les conditions"
   ]
  },
  {
   "cell_type": "code",
   "execution_count": 9,
   "id": "b80fec7d",
   "metadata": {},
   "outputs": [
    {
     "name": "stdout",
     "output_type": "stream",
     "text": [
      "Enfant\n"
     ]
    }
   ],
   "source": [
    "age = 5\n",
    "if age > 50 :\n",
    "    print(\"Adulte\")\n",
    "elif age >= 0 & age <= 10 :\n",
    "    print(\"Enfant\")\n",
    "else:\n",
    "    print(\"Jeune\")"
   ]
  },
  {
   "cell_type": "markdown",
   "id": "4f8dad0a",
   "metadata": {},
   "source": [
    "Fonction aui prend en parametre l'age et retourne la tranche d'age correspondant\n",
    "tranche d'age:\n",
    "    \"Enfants\":(0,12),\n",
    "    \"Adolescents\":(13,19),\n",
    "    \"Jeunes adultes\":(20,29),\n",
    "    \"Adultes\":(30,59),\n",
    "    \"Seniors\":(60,100)"
   ]
  },
  {
   "cell_type": "code",
   "execution_count": 33,
   "id": "f4146a60",
   "metadata": {},
   "outputs": [],
   "source": [
    "def tranche_d_age (age):\n",
    "    if (age >= 0) & (age <= 12) :\n",
    "        print(\"Enfants\")\n",
    "    elif (age >= 13) & (age <= 19) :\n",
    "        print(\"Adolescents\")\n",
    "    elif (age >= 20) & (age <= 29) :\n",
    "        print(\"Jeunes adultes\")\n",
    "    elif (age >= 30) & (age <= 59) :\n",
    "        print(\"Adultes\")\n",
    "    elif (age >= 60) & (age <= 100) :\n",
    "        print(\"Seniors\")\n",
    "    else:\n",
    "        print(\"Entrez un nombre compris entre 0 et 100\")"
   ]
  },
  {
   "cell_type": "markdown",
   "id": "eafce530",
   "metadata": {},
   "source": [
    "tranche_d_age (28)"
   ]
  },
  {
   "cell_type": "code",
   "execution_count": 31,
   "id": "0474f440",
   "metadata": {},
   "outputs": [
    {
     "data": {
      "text/plain": [
       "'Enfants'"
      ]
     },
     "execution_count": 31,
     "metadata": {},
     "output_type": "execute_result"
    }
   ],
   "source": [
    "def tranche_d_ages (age):\n",
    "    \n",
    "    if age >= 0 & age <= 12 :\n",
    "        return (\"Enfants\")\n",
    "    elif age >= 13 & age <= 19 :\n",
    "        return (\"Adolescents\")\n",
    "    elif age >= 20 & age <= 29 :\n",
    "        return (\"Jeunes adultes\")\n",
    "    elif age >= 30 & age <= 59 :\n",
    "        return (\"Adultes\")\n",
    "    elif age >= 60 & age <= 100 :\n",
    "        return (\"Seniors\")\n",
    "    else:\n",
    "        print(\"Entrez un nombre compris entre 0 et 100\")\n",
    "tranche_d_ages (28)"
   ]
  },
  {
   "cell_type": "markdown",
   "id": "cd3dd6c7",
   "metadata": {},
   "source": [
    "Eligibilite basees sur le revenu ensuel et l'apport initial du client"
   ]
  },
  {
   "cell_type": "code",
   "execution_count": 45,
   "id": "c37a2606",
   "metadata": {},
   "outputs": [],
   "source": [
    "def eligibilite ( revenu_mensuel, apport_initial, montant_pret):\n",
    "    if (revenu_mensuel >= 350000) & ( apport_initial >= montant_pret * (20 / 100)) :\n",
    "        print (\"Vous etes eligible\")\n",
    "        \n",
    "        if (revenu_mensuel >= 500000) :\n",
    "            print (\"La banque vous offre une reduction\")\n",
    "        else:\n",
    "            print (\"La banque ne peut vous offrir une reduction\")\n",
    "    \n",
    "    else:\n",
    "        print (\"Vous n'etes pas eligible\")"
   ]
  },
  {
   "cell_type": "code",
   "execution_count": 47,
   "id": "fb4f642e",
   "metadata": {},
   "outputs": [
    {
     "name": "stdout",
     "output_type": "stream",
     "text": [
      "Vous n'etes pas eligible\n"
     ]
    }
   ],
   "source": [
    "eligibilite ( 100000,450000, 800000)"
   ]
  },
  {
   "cell_type": "markdown",
   "id": "f91684c5",
   "metadata": {},
   "source": [
    "## Les listes, les tableaux.."
   ]
  },
  {
   "cell_type": "code",
   "execution_count": 48,
   "id": "ed14a258",
   "metadata": {},
   "outputs": [
    {
     "data": {
      "text/plain": [
       "[]"
      ]
     },
     "execution_count": 48,
     "metadata": {},
     "output_type": "execute_result"
    }
   ],
   "source": [
    "# creation d'une liste\n",
    "\n",
    "liste = []\n",
    "liste"
   ]
  },
  {
   "cell_type": "code",
   "execution_count": 49,
   "id": "de0620cd",
   "metadata": {},
   "outputs": [
    {
     "data": {
      "text/plain": [
       "list"
      ]
     },
     "execution_count": 49,
     "metadata": {},
     "output_type": "execute_result"
    }
   ],
   "source": [
    "type(liste)"
   ]
  },
  {
   "cell_type": "code",
   "execution_count": 50,
   "id": "8b40ba80",
   "metadata": {},
   "outputs": [
    {
     "data": {
      "text/plain": [
       "['Cyprien', 'Landry', 'Difoli', 'Flora', 'Nidele', 'max']"
      ]
     },
     "execution_count": 50,
     "metadata": {},
     "output_type": "execute_result"
    }
   ],
   "source": [
    "# liste des etudiants\n",
    "liste_etu = [\"Cyprien\", \"Landry\", \"Difoli\", \"Flora\", \"Nidele\", \"max\"]\n",
    "liste_etu"
   ]
  },
  {
   "cell_type": "code",
   "execution_count": 51,
   "id": "6c8b3ad9",
   "metadata": {},
   "outputs": [
    {
     "data": {
      "text/plain": [
       "6"
      ]
     },
     "execution_count": 51,
     "metadata": {},
     "output_type": "execute_result"
    }
   ],
   "source": [
    "len(liste_etu)"
   ]
  },
  {
   "cell_type": "code",
   "execution_count": 52,
   "id": "405c5f9c",
   "metadata": {},
   "outputs": [
    {
     "data": {
      "text/plain": [
       "'Cyprien'"
      ]
     },
     "execution_count": 52,
     "metadata": {},
     "output_type": "execute_result"
    }
   ],
   "source": [
    "liste_etu[0]"
   ]
  },
  {
   "cell_type": "code",
   "execution_count": 53,
   "id": "a9db2405",
   "metadata": {},
   "outputs": [
    {
     "data": {
      "text/plain": [
       "['Cyprien', 'Landry']"
      ]
     },
     "execution_count": 53,
     "metadata": {},
     "output_type": "execute_result"
    }
   ],
   "source": [
    "liste_etu[0:2]"
   ]
  },
  {
   "cell_type": "code",
   "execution_count": 54,
   "id": "f6c06543",
   "metadata": {},
   "outputs": [
    {
     "data": {
      "text/plain": [
       "'max'"
      ]
     },
     "execution_count": 54,
     "metadata": {},
     "output_type": "execute_result"
    }
   ],
   "source": [
    "liste_etu[len(liste_etu) -1]"
   ]
  },
  {
   "cell_type": "code",
   "execution_count": 55,
   "id": "882a4229",
   "metadata": {},
   "outputs": [
    {
     "data": {
      "text/plain": [
       "['19', '18', '20', '19', '17', '19']"
      ]
     },
     "execution_count": 55,
     "metadata": {},
     "output_type": "execute_result"
    }
   ],
   "source": [
    "liste_note = [\"19\", \"18\", \"20\", \"19\", \"17\", \"19\"]\n",
    "liste_note"
   ]
  },
  {
   "cell_type": "code",
   "execution_count": 56,
   "id": "a014b433",
   "metadata": {},
   "outputs": [
    {
     "data": {
      "text/plain": [
       "[19, 18, 20, 19, 17, 19]"
      ]
     },
     "execution_count": 56,
     "metadata": {},
     "output_type": "execute_result"
    }
   ],
   "source": [
    "liste_note = [19, 18, 20, 19, 17, 19]\n",
    "liste_note"
   ]
  },
  {
   "cell_type": "code",
   "execution_count": 58,
   "id": "220cfdfd",
   "metadata": {},
   "outputs": [
    {
     "data": {
      "text/plain": [
       "[['Cyprien', 'Landry', 'Difoli', 'Flora', 'Nidele', 'max'],\n",
       " [19, 18, 20, 19, 17, 19]]"
      ]
     },
     "execution_count": 58,
     "metadata": {},
     "output_type": "execute_result"
    }
   ],
   "source": [
    "listes = [liste_etu, liste_note]\n",
    "listes"
   ]
  },
  {
   "cell_type": "code",
   "execution_count": 61,
   "id": "f3f0399c",
   "metadata": {},
   "outputs": [
    {
     "data": {
      "text/plain": [
       "'Cyprien'"
      ]
     },
     "execution_count": 61,
     "metadata": {},
     "output_type": "execute_result"
    }
   ],
   "source": [
    "listes[0][0]"
   ]
  },
  {
   "cell_type": "code",
   "execution_count": 62,
   "id": "f520cc77",
   "metadata": {},
   "outputs": [
    {
     "data": {
      "text/plain": [
       "20"
      ]
     },
     "execution_count": 62,
     "metadata": {},
     "output_type": "execute_result"
    }
   ],
   "source": [
    "listes[1][2]"
   ]
  },
  {
   "cell_type": "code",
   "execution_count": 63,
   "id": "b3b6b310",
   "metadata": {},
   "outputs": [
    {
     "data": {
      "text/plain": [
       "['Cyprien', 'Landry', 'Difoli', 'Flora', 'Nidele', 'max']"
      ]
     },
     "execution_count": 63,
     "metadata": {},
     "output_type": "execute_result"
    }
   ],
   "source": [
    "liste_etu"
   ]
  },
  {
   "cell_type": "code",
   "execution_count": 66,
   "id": "9a58d158",
   "metadata": {},
   "outputs": [
    {
     "data": {
      "text/plain": [
       "['Ludovic', 'Landry', 'Difoli', 'Flora', 'Nidele', 'max']"
      ]
     },
     "execution_count": 66,
     "metadata": {},
     "output_type": "execute_result"
    }
   ],
   "source": [
    "liste_etu [0] = \"Ludovic\"\n",
    "liste_etu"
   ]
  },
  {
   "cell_type": "code",
   "execution_count": 67,
   "id": "3895c6cf",
   "metadata": {},
   "outputs": [
    {
     "data": {
      "text/plain": [
       "['Ludovic', 'Landry', 'Difoli']"
      ]
     },
     "execution_count": 67,
     "metadata": {},
     "output_type": "execute_result"
    }
   ],
   "source": [
    "liste_etu [0:3]"
   ]
  },
  {
   "cell_type": "code",
   "execution_count": 68,
   "id": "15bdeb8f",
   "metadata": {},
   "outputs": [
    {
     "data": {
      "text/plain": [
       "[['Ludovic', 'Landry', 'Difoli', 'Flora', 'Nidele', 'max'],\n",
       " [19, 18, 20, 19, 17, 19]]"
      ]
     },
     "execution_count": 68,
     "metadata": {},
     "output_type": "execute_result"
    }
   ],
   "source": [
    "listes"
   ]
  },
  {
   "cell_type": "code",
   "execution_count": 69,
   "id": "a330582c",
   "metadata": {},
   "outputs": [
    {
     "data": {
      "text/plain": [
       "[['Ludovic', 'Landry', 'Difoli'], [19, 18, 20]]"
      ]
     },
     "execution_count": 69,
     "metadata": {},
     "output_type": "execute_result"
    }
   ],
   "source": [
    "listes = [liste_etu [0:3], liste_note [0:3]]\n",
    "listes"
   ]
  },
  {
   "cell_type": "code",
   "execution_count": 72,
   "id": "b9ae259d",
   "metadata": {},
   "outputs": [
    {
     "data": {
      "text/plain": [
       "[['Ludovic', 'Landry', 'Difoli'], [19, 17, 19]]"
      ]
     },
     "execution_count": 72,
     "metadata": {},
     "output_type": "execute_result"
    }
   ],
   "source": [
    "listes = [liste_etu [0:3], liste_note [3:]]\n",
    "listes"
   ]
  },
  {
   "cell_type": "code",
   "execution_count": 73,
   "id": "1b189819",
   "metadata": {},
   "outputs": [
    {
     "data": {
      "text/plain": [
       "[['Ludovic', 'Landry', 'Difoli'], [19, 17, 19]]"
      ]
     },
     "execution_count": 73,
     "metadata": {},
     "output_type": "execute_result"
    }
   ],
   "source": [
    "[liste_etu [0:3], liste_note [3:]]"
   ]
  },
  {
   "cell_type": "code",
   "execution_count": 86,
   "id": "5b08a8a3",
   "metadata": {},
   "outputs": [
    {
     "data": {
      "text/plain": [
       "[['Ludovic', 'Landry', 'Difoli', 'Flora', 'Nidele', 'max'],\n",
       " [19, 18, 20, 19, 17, 19]]"
      ]
     },
     "execution_count": 86,
     "metadata": {},
     "output_type": "execute_result"
    }
   ],
   "source": [
    "listes = [liste_etu, liste_note]\n",
    "listes"
   ]
  },
  {
   "cell_type": "code",
   "execution_count": 88,
   "id": "7736983c",
   "metadata": {},
   "outputs": [
    {
     "data": {
      "text/plain": [
       "[['Ludovic', 'Landry', 'Difoli'], [19, 17, 19]]"
      ]
     },
     "execution_count": 88,
     "metadata": {},
     "output_type": "execute_result"
    }
   ],
   "source": [
    "[listes[0][:3], listes[1][3:]]"
   ]
  },
  {
   "cell_type": "code",
   "execution_count": 89,
   "id": "ed6a0c35",
   "metadata": {},
   "outputs": [
    {
     "data": {
      "text/plain": [
       "['Ludovic', 'Landry', 'Difoli', 'Flora', 'Nidele', 'max']"
      ]
     },
     "execution_count": 89,
     "metadata": {},
     "output_type": "execute_result"
    }
   ],
   "source": [
    "liste_etu"
   ]
  },
  {
   "cell_type": "code",
   "execution_count": 90,
   "id": "e59b2d09",
   "metadata": {},
   "outputs": [],
   "source": [
    "liste_etu.append (\"Ibrahim\")"
   ]
  },
  {
   "cell_type": "code",
   "execution_count": 91,
   "id": "72a4eca5",
   "metadata": {},
   "outputs": [
    {
     "data": {
      "text/plain": [
       "['Ludovic', 'Landry', 'Difoli', 'Flora', 'Nidele', 'max', 'Ibrahim']"
      ]
     },
     "execution_count": 91,
     "metadata": {},
     "output_type": "execute_result"
    }
   ],
   "source": [
    "liste_etu"
   ]
  },
  {
   "cell_type": "code",
   "execution_count": 93,
   "id": "cab5436f",
   "metadata": {},
   "outputs": [],
   "source": [
    "liste_etu.insert??"
   ]
  },
  {
   "cell_type": "code",
   "execution_count": 95,
   "id": "e0d1b915",
   "metadata": {},
   "outputs": [
    {
     "data": {
      "text/plain": [
       "['Ludovic',\n",
       " 'Landry',\n",
       " 'Moella',\n",
       " 'Moella',\n",
       " 'Difoli',\n",
       " 'Flora',\n",
       " 'Nidele',\n",
       " 'max',\n",
       " 'Ibrahim']"
      ]
     },
     "execution_count": 95,
     "metadata": {},
     "output_type": "execute_result"
    }
   ],
   "source": [
    "liste_etu.insert(2, \"Moella\")\n",
    "liste_etu"
   ]
  },
  {
   "cell_type": "code",
   "execution_count": 96,
   "id": "ba265766",
   "metadata": {},
   "outputs": [
    {
     "data": {
      "text/plain": [
       "['Ludovic',\n",
       " 'Landry',\n",
       " 'Gautier',\n",
       " 'Moella',\n",
       " 'Moella',\n",
       " 'Difoli',\n",
       " 'Flora',\n",
       " 'Nidele',\n",
       " 'max',\n",
       " 'Ibrahim']"
      ]
     },
     "execution_count": 96,
     "metadata": {},
     "output_type": "execute_result"
    }
   ],
   "source": [
    "liste_etu.insert(2, \"Gautier\")\n",
    "liste_etu"
   ]
  },
  {
   "cell_type": "code",
   "execution_count": 97,
   "id": "928ab181",
   "metadata": {},
   "outputs": [
    {
     "data": {
      "text/plain": [
       "['Ludovic',\n",
       " 'Landry',\n",
       " 'Moella',\n",
       " 'Moella',\n",
       " 'Difoli',\n",
       " 'Flora',\n",
       " 'Nidele',\n",
       " 'max',\n",
       " 'Ibrahim']"
      ]
     },
     "execution_count": 97,
     "metadata": {},
     "output_type": "execute_result"
    }
   ],
   "source": [
    "del liste_etu[2]\n",
    "liste_etu"
   ]
  },
  {
   "cell_type": "code",
   "execution_count": 98,
   "id": "b111a025",
   "metadata": {},
   "outputs": [
    {
     "data": {
      "text/plain": [
       "[19, 18, 20, 19, 17, 19]"
      ]
     },
     "execution_count": 98,
     "metadata": {},
     "output_type": "execute_result"
    }
   ],
   "source": [
    "liste_note"
   ]
  },
  {
   "cell_type": "code",
   "execution_count": 103,
   "id": "3cfb2a7e",
   "metadata": {},
   "outputs": [
    {
     "data": {
      "text/plain": [
       "[18, 20, 19, 17, 19]"
      ]
     },
     "execution_count": 103,
     "metadata": {},
     "output_type": "execute_result"
    }
   ],
   "source": [
    "liste_note.remove(19)\n",
    "liste_note"
   ]
  },
  {
   "cell_type": "code",
   "execution_count": 104,
   "id": "7afb71fb",
   "metadata": {},
   "outputs": [
    {
     "name": "stdout",
     "output_type": "stream",
     "text": [
      "Ludovic\n",
      "Landry\n",
      "Moella\n",
      "Moella\n",
      "Difoli\n",
      "Flora\n",
      "Nidele\n",
      "max\n",
      "Ibrahim\n"
     ]
    }
   ],
   "source": [
    "for i in liste_etu:\n",
    "    print (i)"
   ]
  },
  {
   "cell_type": "markdown",
   "id": "cf9ac5b6",
   "metadata": {},
   "source": [
    "# calcul la somme des elements pairs d'une liste"
   ]
  },
  {
   "cell_type": "code",
   "execution_count": 113,
   "id": "738f927a",
   "metadata": {},
   "outputs": [
    {
     "name": "stdout",
     "output_type": "stream",
     "text": [
      "2\n",
      "4\n",
      "6\n",
      "8\n",
      "10\n"
     ]
    },
    {
     "data": {
      "text/plain": [
       "30"
      ]
     },
     "execution_count": 113,
     "metadata": {},
     "output_type": "execute_result"
    }
   ],
   "source": [
    "liste = [1, 2, 3, 4, 5, 6, 7, 8, 9, 10]\n",
    "resultat = 0\n",
    "for i in liste:\n",
    "    if i % 2 == 0 :\n",
    "        print (i)\n",
    "        resultat = resultat + i\n",
    "resultat"
   ]
  },
  {
   "cell_type": "markdown",
   "id": "3c1980fb",
   "metadata": {},
   "source": [
    "# Fusion de deux listes que nous devrons trier Au prealable et retourner une liste contenant les element des deux listes tries par ordre croissant sans doublons "
   ]
  },
  {
   "cell_type": "code",
   "execution_count": 155,
   "id": "2bd15759",
   "metadata": {},
   "outputs": [
    {
     "name": "stdout",
     "output_type": "stream",
     "text": [
      "La liste fusionnee est et classee par ordre croissant est [1, 2, 3, 4, 5, 6, 7, 8, 9, 10]\n"
     ]
    }
   ],
   "source": [
    "liste1 = [1, 2, 2, 3, 5, 7, 9]\n",
    "liste2 = [2, 4, 6, 8, 10]\n",
    "p = sorted(liste1 + liste2)\n",
    "s=set(p)\n",
    "print(\"La liste fusionnee est et classee par ordre croissant est\", sorted(s))"
   ]
  },
  {
   "cell_type": "code",
   "execution_count": 154,
   "id": "644e198e",
   "metadata": {},
   "outputs": [
    {
     "name": "stdout",
     "output_type": "stream",
     "text": [
      "La liste fusionnee est et classee par ordre croissant est [1, 2, 3, 4, 5, 6, 7, 8, 9, 10]\n"
     ]
    }
   ],
   "source": [
    "liste1 = [1, 3, 5, 2, 7, 9]\n",
    "liste2 = [2, 4, 6, 8, 10]\n",
    "p = liste1 + liste2\n",
    "p.sort(reverse=True)\n",
    "s=set(p)\n",
    "print(\"La liste fusionnee est et classee par ordre croissant est\", sorted(s))"
   ]
  },
  {
   "cell_type": "code",
   "execution_count": 174,
   "id": "03bff581",
   "metadata": {},
   "outputs": [
    {
     "name": "stdout",
     "output_type": "stream",
     "text": [
      "[1, 2, 2, 3, 4, 5, 6, 7, 8, 9, 10]\n"
     ]
    }
   ],
   "source": [
    "liste1 = [1, 3, 5, 2, 7, 9]\n",
    "liste2 = [2, 4, 6, 8, 10]\n",
    "fusion = []\n",
    "for i in liste1:\n",
    "    fusion.append(i)\n",
    "for i in liste2:\n",
    "    fusion.append(i)\n",
    "fusion.sort()\n",
    "print(fusion)\n"
   ]
  },
  {
   "cell_type": "code",
   "execution_count": 175,
   "id": "2d447285",
   "metadata": {},
   "outputs": [
    {
     "name": "stdout",
     "output_type": "stream",
     "text": [
      "[1, 2, 3, 4, 5, 6, 7, 8, 9, 10]\n"
     ]
    }
   ],
   "source": [
    "liste1 = [1, 3, 5, 2, 7, 9]\n",
    "liste2 = [2, 4, 6, 8, 10]\n",
    "fusion = []\n",
    "for i in liste1:\n",
    "    if i not in fusion:\n",
    "        fusion.append(i)\n",
    "for i in liste2:\n",
    "    if i not in fusion:\n",
    "        fusion.append(i)\n",
    "fusion.sort()\n",
    "print(fusion)"
   ]
  },
  {
   "cell_type": "code",
   "execution_count": 2,
   "id": "69524721",
   "metadata": {},
   "outputs": [
    {
     "name": "stdout",
     "output_type": "stream",
     "text": [
      "[10, 9, 8, 7, 6, 5, 4, 3, 2, 1]\n"
     ]
    }
   ],
   "source": [
    "liste1 = [1, 3, 5, 2, 7, 9]\n",
    "liste2 = [2, 4, 6, 8, 10]\n",
    "fusion = []\n",
    "for i in liste1:\n",
    "    if i not in fusion:\n",
    "        fusion.append(i)\n",
    "for i in liste2:\n",
    "    if i not in fusion:\n",
    "        fusion.append(i)\n",
    "fusion.sort(reverse=True)\n",
    "print(fusion)"
   ]
  },
  {
   "cell_type": "code",
   "execution_count": null,
   "id": "b14a72e0",
   "metadata": {},
   "outputs": [
    {
     "name": "stdout",
     "output_type": "stream",
     "text": [
      "MENU\n",
      "1. Ajouter\n",
      "2. Modifier\n",
      "3. Supprimer\n",
      "4. Afficher\n",
      "5 .Quitter\n"
     ]
    }
   ],
   "source": [
    "while True:\n",
    "    print (\"MENU\")\n",
    "    print (\"1. Ajouter\")\n",
    "    print (\"2. Modifier\")\n",
    "    print (\"3. Supprimer\")\n",
    "    print (\"4. Afficher\")\n",
    "    print (\"5 .Quitter\")\n",
    "    \n",
    "    choix=int(input(\"Faites votre choix\"))\n",
    "    if choix == 1:\n",
    "        print (\"Fonction pour ajouter ici\")\n",
    "    if choix == 2:\n",
    "        print (\"Fonction pour Modifier ici\")\n",
    "    if choix == 3:\n",
    "        print (\"Fonction pour supprimer ici\")\n",
    "    if choix == 4:\n",
    "        print (\"Fonction pour afficher ici\")\n",
    "    if choix == 5:\n",
    "        print (\"A Bientot\")\n",
    "        break\n",
    "    else:\n",
    "        print (\"Choix incorrect\")\n",
    "    "
   ]
  },
  {
   "cell_type": "code",
   "execution_count": null,
   "id": "c8e9a225",
   "metadata": {},
   "outputs": [],
   "source": []
  }
 ],
 "metadata": {
  "kernelspec": {
   "display_name": "Python 3 (ipykernel)",
   "language": "python",
   "name": "python3"
  },
  "language_info": {
   "codemirror_mode": {
    "name": "ipython",
    "version": 3
   },
   "file_extension": ".py",
   "mimetype": "text/x-python",
   "name": "python",
   "nbconvert_exporter": "python",
   "pygments_lexer": "ipython3",
   "version": "3.11.5"
  }
 },
 "nbformat": 4,
 "nbformat_minor": 5
}
