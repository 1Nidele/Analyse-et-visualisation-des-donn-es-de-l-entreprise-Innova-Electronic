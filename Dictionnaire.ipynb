{
 "cells": [
  {
   "cell_type": "markdown",
   "id": "6f15189a",
   "metadata": {},
   "source": [
    "## Dictionnaire"
   ]
  },
  {
   "cell_type": "code",
   "execution_count": 1,
   "id": "502f588e",
   "metadata": {},
   "outputs": [
    {
     "name": "stdout",
     "output_type": "stream",
     "text": [
      "{'cyprien': 100000, 'landry': 200000, 'Nidele': 300000, 'Max': 450000, 'Difoli': 350000}\n"
     ]
    }
   ],
   "source": [
    "# Creation d'un dictionnaire\n",
    "comptes = {\"cyprien\" : 100000,\n",
    "          \"landry\" : 200000,\n",
    "          \"Nidele\" : 300000,\n",
    "          \"Max\" : 450000,\n",
    "          \"cyprien\" : 250000,\n",
    "          \"Difoli\" : 350000\n",
    "         }\n",
    "print (comptes)"
   ]
  },
  {
   "cell_type": "code",
   "execution_count": 2,
   "id": "0952d5ed",
   "metadata": {},
   "outputs": [
    {
     "name": "stdout",
     "output_type": "stream",
     "text": [
      "450000\n"
     ]
    }
   ],
   "source": [
    "# Creation d'un dictionnaire\n",
    "comptes = {\"cyprien\" : 100000,\n",
    "          \"landry\" : 200000,\n",
    "          \"Nidele\" : 300000,\n",
    "          \"Max\" : 450000,\n",
    "          \"cyprien\" : 250000,\n",
    "          \"Difoli\" : 350000\n",
    "         }\n",
    "print (comptes[\"Max\"])"
   ]
  },
  {
   "cell_type": "code",
   "execution_count": 3,
   "id": "95564e3d",
   "metadata": {},
   "outputs": [
    {
     "name": "stdout",
     "output_type": "stream",
     "text": [
      "450000\n"
     ]
    },
    {
     "data": {
      "text/plain": [
       "dict"
      ]
     },
     "execution_count": 3,
     "metadata": {},
     "output_type": "execute_result"
    }
   ],
   "source": [
    "# Creation d'un dictionnaire\n",
    "comptes = {\"cyprien\" : 100000,\n",
    "          \"landry\" : 200000,\n",
    "          \"Nidele\" : 300000,\n",
    "          \"Max\" : 450000,\n",
    "          \"cyprien\" : 250000,\n",
    "          \"Difoli\" : 350000\n",
    "         }\n",
    "print (comptes[\"Max\"])\n",
    "type (comptes)"
   ]
  },
  {
   "cell_type": "code",
   "execution_count": 4,
   "id": "706e7064",
   "metadata": {},
   "outputs": [
    {
     "data": {
      "text/plain": [
       "dict_keys(['cyprien', 'landry', 'Nidele', 'Max', 'Difoli'])"
      ]
     },
     "execution_count": 4,
     "metadata": {},
     "output_type": "execute_result"
    }
   ],
   "source": [
    "# liste des cles disponibles\n",
    "\n",
    "comptes.keys()"
   ]
  },
  {
   "cell_type": "code",
   "execution_count": 5,
   "id": "3c3a0a42",
   "metadata": {},
   "outputs": [
    {
     "name": "stdout",
     "output_type": "stream",
     "text": [
      "{'landry': 200000, 'Nidele': 300000, 'Max': 450000, 'cyprien': 250000, 'Difoli': 350000}\n"
     ]
    }
   ],
   "source": [
    "# Creation d'un dictionnaire\n",
    "comptes = {\"landry\" : 200000,\n",
    "          \"Nidele\" : 300000,\n",
    "          \"Max\" : 450000,\n",
    "          \"cyprien\" : 250000,\n",
    "          \"Difoli\" : 350000\n",
    "         }\n",
    "print (comptes)"
   ]
  },
  {
   "cell_type": "code",
   "execution_count": 6,
   "id": "6ab2c6f5",
   "metadata": {},
   "outputs": [
    {
     "name": "stdout",
     "output_type": "stream",
     "text": [
      "250000\n"
     ]
    }
   ],
   "source": [
    "# Verifier si une cle existe\n",
    "a = comptes.get(\"cyprien\")\n",
    "print (a)"
   ]
  },
  {
   "cell_type": "code",
   "execution_count": 7,
   "id": "1bbfa3db",
   "metadata": {},
   "outputs": [
    {
     "name": "stdout",
     "output_type": "stream",
     "text": [
      "{'landry': 200000, 'Nidele': 300000, 'Max': 450000, 'cyprien': 400000, 'Difoli': 350000}\n"
     ]
    }
   ],
   "source": [
    "# Modifier la valeur de la cle\n",
    "comptes[\"cyprien\"] = 400000\n",
    "print (comptes)"
   ]
  },
  {
   "cell_type": "code",
   "execution_count": 8,
   "id": "0e9422ea",
   "metadata": {},
   "outputs": [
    {
     "name": "stdout",
     "output_type": "stream",
     "text": [
      "300000\n"
     ]
    }
   ],
   "source": [
    "# supprimer et retourner la valeur de la cle supprime\n",
    "a = comptes.pop(\"Nidele\")\n",
    "print (a)"
   ]
  },
  {
   "cell_type": "code",
   "execution_count": 9,
   "id": "5a91db36",
   "metadata": {},
   "outputs": [
    {
     "data": {
      "text/plain": [
       "{'landry': 200000, 'Max': 450000, 'cyprien': 400000, 'Difoli': 350000}"
      ]
     },
     "execution_count": 9,
     "metadata": {},
     "output_type": "execute_result"
    }
   ],
   "source": [
    "comptes"
   ]
  },
  {
   "cell_type": "code",
   "execution_count": 10,
   "id": "67574179",
   "metadata": {},
   "outputs": [
    {
     "data": {
      "text/plain": [
       "dict_values([200000, 450000, 400000, 350000])"
      ]
     },
     "execution_count": 10,
     "metadata": {},
     "output_type": "execute_result"
    }
   ],
   "source": [
    "comptes.values()"
   ]
  },
  {
   "cell_type": "code",
   "execution_count": 11,
   "id": "7edc8819",
   "metadata": {},
   "outputs": [
    {
     "data": {
      "text/plain": [
       "dict_items([('landry', 200000), ('Max', 450000), ('cyprien', 400000), ('Difoli', 350000)])"
      ]
     },
     "execution_count": 11,
     "metadata": {},
     "output_type": "execute_result"
    }
   ],
   "source": [
    "b = comptes.items()\n",
    "b"
   ]
  },
  {
   "cell_type": "code",
   "execution_count": 12,
   "id": "344222aa",
   "metadata": {},
   "outputs": [
    {
     "name": "stdout",
     "output_type": "stream",
     "text": [
      "landry\n",
      "Max\n",
      "cyprien\n",
      "Difoli\n"
     ]
    }
   ],
   "source": [
    "# parcourir et afficher les cles dans un dictionnaire\n",
    "\n",
    "for key in comptes.keys():\n",
    "    print (key)"
   ]
  },
  {
   "cell_type": "code",
   "execution_count": 14,
   "id": "960c8a73",
   "metadata": {},
   "outputs": [
    {
     "name": "stdout",
     "output_type": "stream",
     "text": [
      "200000\n",
      "450000\n",
      "400000\n",
      "350000\n"
     ]
    }
   ],
   "source": [
    "# parcourir les valeurs d'un dictionnaire\n",
    "\n",
    "for val in comptes.values():\n",
    "    print (val)"
   ]
  },
  {
   "cell_type": "code",
   "execution_count": 17,
   "id": "4819c649",
   "metadata": {},
   "outputs": [
    {
     "name": "stdout",
     "output_type": "stream",
     "text": [
      "La cle est :  landry et la valeur est : 200000\n",
      "La cle est :  Max et la valeur est : 450000\n",
      "La cle est :  cyprien et la valeur est : 400000\n",
      "La cle est :  Difoli et la valeur est : 350000\n"
     ]
    }
   ],
   "source": [
    "# parcourir les cles et les valeurs dans un dictionnaire\n",
    "\n",
    "for key, val in comptes.items():\n",
    "    print (\"La cle est : \", key, \"et la valeur est :\", val)"
   ]
  },
  {
   "cell_type": "code",
   "execution_count": 21,
   "id": "b1f5ac15",
   "metadata": {},
   "outputs": [
    {
     "data": {
      "text/plain": [
       "{'employe1': {'mois1': 200000, 'mois2': 200000, 'mois3': 200000},\n",
       " 'employe2': {'mois1': 300000, 'mois2': 300000, 'mois3': 300000},\n",
       " 'employe3': {'mois1': 250000, 'mois2': 250000, 'mois3': 250000},\n",
       " 'employe4': {'mois1': 240000, 'mois2': 240000, 'mois3': 240000},\n",
       " 'employe5': {'mois1': 400000, 'mois2': 400000, 'mois3': 400000}}"
      ]
     },
     "execution_count": 21,
     "metadata": {},
     "output_type": "execute_result"
    }
   ],
   "source": [
    "salaires = {\n",
    "    \"employe1\" : {\n",
    "        \"mois1\" : 200000,\n",
    "        \"mois2\" : 200000,\n",
    "        \"mois3\" : 200000\n",
    "    },\n",
    "     \"employe2\" : {\n",
    "        \"mois1\" : 300000,\n",
    "        \"mois2\" : 300000,\n",
    "        \"mois3\" : 300000\n",
    "    },\n",
    "     \"employe3\" : {\n",
    "        \"mois1\" : 250000,\n",
    "        \"mois2\" : 250000,\n",
    "        \"mois3\" : 250000\n",
    "    },\n",
    "     \"employe4\" : {\n",
    "        \"mois1\" : 240000,\n",
    "        \"mois2\" : 240000,\n",
    "        \"mois3\" : 240000\n",
    "    },\n",
    "     \"employe5\" : {\n",
    "        \"mois1\" : 400000,\n",
    "        \"mois2\" : 400000,\n",
    "        \"mois3\" : 400000\n",
    "    }\n",
    "}\n",
    "salaires"
   ]
  },
  {
   "cell_type": "code",
   "execution_count": 36,
   "id": "014d1aa3",
   "metadata": {},
   "outputs": [
    {
     "name": "stdout",
     "output_type": "stream",
     "text": [
      "employe1\n",
      " a percu le salaire pour le  mois1 200000\n",
      " a percu le salaire pour le  mois2 200000\n",
      " a percu le salaire pour le  mois3 200000\n",
      "employe2\n",
      " a percu le salaire pour le  mois1 300000\n",
      " a percu le salaire pour le  mois2 300000\n",
      " a percu le salaire pour le  mois3 300000\n",
      "employe3\n",
      " a percu le salaire pour le  mois1 250000\n",
      " a percu le salaire pour le  mois2 250000\n",
      " a percu le salaire pour le  mois3 250000\n",
      "employe4\n",
      " a percu le salaire pour le  mois1 240000\n",
      " a percu le salaire pour le  mois2 240000\n",
      " a percu le salaire pour le  mois3 240000\n",
      "employe5\n",
      " a percu le salaire pour le  mois1 400000\n",
      " a percu le salaire pour le  mois2 400000\n",
      " a percu le salaire pour le  mois3 400000\n"
     ]
    }
   ],
   "source": [
    "for key, val in salaires.items():\n",
    "        print (key)\n",
    "        for k, v in val.items():\n",
    "            print (\" a percu le salaire pour le \", k, v) "
   ]
  },
  {
   "cell_type": "code",
   "execution_count": null,
   "id": "be4c7e13",
   "metadata": {},
   "outputs": [],
   "source": []
  }
 ],
 "metadata": {
  "kernelspec": {
   "display_name": "Python 3 (ipykernel)",
   "language": "python",
   "name": "python3"
  },
  "language_info": {
   "codemirror_mode": {
    "name": "ipython",
    "version": 3
   },
   "file_extension": ".py",
   "mimetype": "text/x-python",
   "name": "python",
   "nbconvert_exporter": "python",
   "pygments_lexer": "ipython3",
   "version": "3.11.5"
  }
 },
 "nbformat": 4,
 "nbformat_minor": 5
}
