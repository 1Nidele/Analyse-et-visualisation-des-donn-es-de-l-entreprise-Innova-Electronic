{
 "cells": [
  {
   "cell_type": "code",
   "execution_count": 4,
   "id": "16cccee4",
   "metadata": {},
   "outputs": [
    {
     "name": "stdout",
     "output_type": "stream",
     "text": [
      "{'min': 210000, 'max': 560000, 'somme': 1810000, 'moyenne': 362000.0}\n",
      "1810000\n"
     ]
    }
   ],
   "source": [
    "# importation\n",
    "\n",
    "import module_stat_desc as msd\n",
    "\n",
    "liste_salaire = [240000, 350000, 450000, 210000, 560000]\n",
    "a = msd.statistique_desc(liste_salaire)\n",
    "print (a)\n",
    "\n",
    "somme = msd.somme_elt(liste_salaire)\n",
    "print (somme)"
   ]
  },
  {
   "cell_type": "markdown",
   "id": "c10ddfd7",
   "metadata": {},
   "source": [
    "# premier pas avec numpy"
   ]
  },
  {
   "cell_type": "code",
   "execution_count": 5,
   "id": "b33797d5",
   "metadata": {},
   "outputs": [
    {
     "name": "stdout",
     "output_type": "stream",
     "text": [
      "[23 20 31 25 26 29 22 27]\n"
     ]
    }
   ],
   "source": [
    "#Importation de numpy\n",
    "\n",
    "import numpy as np\n",
    "\n",
    "liste_age = [23, 20, 31, 25, 26, 29, 22, 27]\n",
    "tab = np.array(liste_age)\n",
    "print (tab)"
   ]
  },
  {
   "cell_type": "code",
   "execution_count": 6,
   "id": "bf2889a8",
   "metadata": {},
   "outputs": [
    {
     "data": {
      "text/plain": [
       "numpy.ndarray"
      ]
     },
     "execution_count": 6,
     "metadata": {},
     "output_type": "execute_result"
    }
   ],
   "source": [
    "type(tab)"
   ]
  },
  {
   "cell_type": "code",
   "execution_count": 15,
   "id": "71ac3ab2",
   "metadata": {},
   "outputs": [
    {
     "name": "stdout",
     "output_type": "stream",
     "text": [
      "moyenne: 25.375\n",
      "minimum: 20\n",
      "maximum: 31\n",
      "nombre de personne ayant un age superieur a la moyenne: 4\n",
      "Tableau: [26 26 31 26 26 29 26 27]\n"
     ]
    }
   ],
   "source": [
    "# calculer la moyenne\n",
    "\n",
    "moyenne = np.mean(tab)\n",
    "minimum = np.min(tab)\n",
    "maximum = np.max(tab)\n",
    "print (\"moyenne:\", moyenne)\n",
    "print (\"minimum:\", minimum)\n",
    "print (\"maximum:\", maximum)\n",
    "\n",
    "# nombre de personne ayant un age superieur a la moyenne\n",
    "\n",
    "nbre_pers = np.sum(tab > moyenne)\n",
    "print (\"nombre de personne ayant un age superieur a la moyenne:\", nbre_pers)\n",
    "\n",
    "# remplacer ceux qui ont moins de 25 ans par 26\n",
    "tab[tab <= 25] = 26\n",
    "print (\"Tableau:\", tab)"
   ]
  },
  {
   "cell_type": "code",
   "execution_count": 10,
   "id": "5054730a",
   "metadata": {},
   "outputs": [
    {
     "name": "stdout",
     "output_type": "stream",
     "text": [
      "25.375\n"
     ]
    }
   ],
   "source": [
    "moyenne = np.average(tab)\n",
    "print (moyenne)"
   ]
  },
  {
   "cell_type": "code",
   "execution_count": 22,
   "id": "21f6a4ad",
   "metadata": {},
   "outputs": [
    {
     "name": "stdout",
     "output_type": "stream",
     "text": [
      "[[ 5 12 18  4]\n",
      " [ 9  8 15  2]]\n"
     ]
    },
    {
     "data": {
      "text/plain": [
       "numpy.ndarray"
      ]
     },
     "execution_count": 22,
     "metadata": {},
     "output_type": "execute_result"
    }
   ],
   "source": [
    "# tableau a deux dimensions\n",
    "\n",
    "tab = np.array([[5, 12, 18, 4], [9, 8, 15, 2]])\n",
    "print (tab)\n",
    "type(tab)"
   ]
  },
  {
   "cell_type": "code",
   "execution_count": 24,
   "id": "04526502",
   "metadata": {},
   "outputs": [
    {
     "name": "stdout",
     "output_type": "stream",
     "text": [
      "[2, 8, 12, 2, 8, 12]\n",
      "[ 4 16 24]\n"
     ]
    }
   ],
   "source": [
    "# difference entre liste python et liste numpy\n",
    "liste_py = [2, 8, 12]\n",
    "liste_np = np.array([2, 8, 12])\n",
    "add_py = liste_py + liste_py\n",
    "add_np = liste_np + liste_np\n",
    "print (add_py)\n",
    "print (add_np)"
   ]
  },
  {
   "cell_type": "code",
   "execution_count": 26,
   "id": "01a7372e",
   "metadata": {},
   "outputs": [
    {
     "name": "stdout",
     "output_type": "stream",
     "text": [
      "(2, 4)\n",
      "12\n",
      "2\n"
     ]
    }
   ],
   "source": [
    "# afficher les dimensions du bableau\n",
    "print (tab.shape)\n",
    "\n",
    "# acceder a un element du tableau\n",
    "print (tab[0, 1])\n",
    "print (tab[1, 3])"
   ]
  },
  {
   "cell_type": "code",
   "execution_count": 45,
   "id": "707a2413",
   "metadata": {},
   "outputs": [
    {
     "name": "stdout",
     "output_type": "stream",
     "text": [
      "[32.5 43.5 68.4]\n",
      "[32.5, 43.5, 68.39999999999999]\n"
     ]
    }
   ],
   "source": [
    "# calcul\n",
    "\n",
    "base_np = np.array([25, 29, 36])\n",
    "hauteur_np = np.array([1.3, 1.5, 1.9])\n",
    "\n",
    "# calcul avec numpy\n",
    "v = base_np * hauteur_np\n",
    "print (v)\n",
    "\n",
    "# calcul avec liste\n",
    "base = [25, 29, 36]\n",
    "hauteur = [1.3, 1.5, 1.9]\n",
    "v = []\n",
    "for i in range (len(base)):\n",
    "    v.append(base[i] * hauteur[i])\n",
    "print (v)"
   ]
  },
  {
   "cell_type": "markdown",
   "id": "9c2bf8c3",
   "metadata": {},
   "source": [
    "# Analyse de donnees financieres"
   ]
  },
  {
   "cell_type": "code",
   "execution_count": 47,
   "id": "dd286136",
   "metadata": {},
   "outputs": [
    {
     "name": "stdout",
     "output_type": "stream",
     "text": [
      "[100.35281047 100.08003144 100.1957476  100.44817864 100.3735116\n",
      "  99.80454442 100.19001768  99.96972856  99.97935623 100.0821197\n",
      " 100.02880871 100.2908547  100.15220755 100.024335   100.08877265\n",
      " 100.06673487 100.29881581  99.95896835 100.06261354  99.82918085\n",
      "  99.48940204 100.13072372 100.17288724  99.851567   100.45395092\n",
      "  99.70912687 100.0091517   99.96256323 100.30655584 100.29387175\n",
      " 100.03098949 100.0756325   99.82244285  99.60384071  99.93041757\n",
      " 100.03126979 100.24605814 100.24047597  99.92253464  99.93953945\n",
      "  99.79028941  99.71599641  99.65874596 100.39015508  99.89806956\n",
      "  99.91238514  99.74944093 100.15549807  99.67722043  99.95745194\n",
      "  99.82090669 100.0773805   99.89783897  99.76387356  99.99436355\n",
      " 100.08566637 100.01330344 100.06049438  99.87313558  99.92745177\n",
      "  99.86550791  99.92808937  99.83737074  99.65474348 100.03548523\n",
      "  99.91964381  99.67396033 100.09255645  99.81854033 100.01038908\n",
      " 100.14581811 100.02579658 100.22788014  99.75303484 100.08046833\n",
      "  99.86303798  99.82584057  99.88423007  99.93768949 100.01123307\n",
      "  99.76697003 100.1801653  100.09313249  99.69275126 100.29765044\n",
      " 100.37917784 100.23575591  99.96401503  99.78584948 100.21089035\n",
      "  99.91936461 100.24448901 100.041655   100.19532781 100.07127328\n",
      " 100.14131463 100.0021     100.3571741  100.02538242 100.08039787]\n"
     ]
    }
   ],
   "source": [
    "# Exemple \n",
    "\n",
    "import numpy as np\n",
    "np.random.seed(0)\n",
    "jours = 100\n",
    "\n",
    "prices_ABC = np.random.normal(100, 0.2, jours)\n",
    "\n",
    "print (prices_ABC)"
   ]
  },
  {
   "cell_type": "code",
   "execution_count": 53,
   "id": "3dd95d42",
   "metadata": {},
   "outputs": [
    {
     "name": "stdout",
     "output_type": "stream",
     "text": [
      "Prix de cloture ABC [461.23926637 510.43297053 476.39078773 505.9525787  464.85092709\n",
      " 485.24855885 497.23776487 458.4825047  502.87869683 490.52131093\n",
      " 456.44109505 467.41893115 515.1280021  522.38889964 496.70228401\n",
      " 510.1190453  505.59608908 508.24057455 532.14960018 462.32504004\n",
      " 516.91151831 490.44977611 494.39352664 492.44375674 490.62132208\n",
      " 469.34509521 504.58347998 541.77357582 498.59667449 499.96537393\n",
      " 482.81752407 497.06313634 511.65416065 490.74393898 488.65489897\n",
      " 510.0816135  477.04988075 506.31241568 520.50804493 533.99871354\n",
      " 497.74044982 534.189931   525.86024716 475.09468399 469.55153721\n",
      " 492.37590905 525.72338731 498.19282481 484.98356106 538.8060795\n",
      " 507.1726122  441.98514311 507.92901566 513.00101536 505.64021636\n",
      " 511.24280251 498.31810978 467.04010326 490.73239992 476.35960511\n",
      " 476.68147723 468.42329127 511.31222732 502.44740364 488.79586593\n",
      " 483.76655181 499.41442237 526.9798682  449.89460711 509.42191302\n",
      " 486.35720065 452.88535388 451.35742292 477.18041265 505.48773889\n",
      " 509.82657335 476.52546068 525.42552479 535.57458741 509.90216462\n",
      " 485.2149333  528.11047961 518.88489239 521.68518528 483.58840813\n",
      " 429.13613737 552.91977554 459.72803991 499.1057982  559.51863378\n",
      " 508.26441891 523.73116184 462.44008577 455.55832613 486.6824302\n",
      " 527.26874336 491.34376381 480.13409197 504.94918225 527.04838046]\n",
      "Prix de cloture XYZ [562.43155482 568.52588215 579.49459938 628.46059774 606.10535967\n",
      " 655.43598867 624.34758887 599.0875254  632.89202379 605.49892233\n",
      " 581.67204483 617.67934595 581.895507   592.44967538 634.52235009\n",
      " 597.36668136 579.11832393 587.92722002 626.56655523 585.63394249\n",
      " 589.94135798 586.73238877 604.78206285 589.97726623 558.35226273\n",
      " 576.93329551 575.74748492 632.326304   621.12952509 615.26874386\n",
      " 586.86068375 578.78941991 586.80454236 572.65111733 664.92721018\n",
      " 541.62163714 614.66422191 566.60164025 597.28706922 574.3119495\n",
      " 569.38164698 570.35489618 645.62964    596.54230102 580.09174294\n",
      " 614.45046107 600.26908218 618.72087774 552.56932695 607.89370152\n",
      " 620.09006576 556.79844443 611.6530774  644.10072089 599.61369971\n",
      " 621.35655436 617.43483171 581.60485186 601.0339351  559.25813752\n",
      " 588.26612104 606.90788735 618.80061284 600.63991526 618.71957698\n",
      " 571.32443846 597.35587086 600.501264   648.08937241 594.43166694\n",
      " 587.02556741 600.55513182 576.10305043 605.01160008 590.50856437\n",
      " 553.42548375 598.47674967 591.74387956 557.55699415 598.25451198\n",
      " 638.72325501 613.55389746 615.91010701 565.12108513 612.39935759\n",
      " 603.85968912 613.7551762  610.98834416 564.64570114 598.9235789\n",
      " 580.29535763 598.69781355 576.6675759  634.12422955 577.6667179\n",
      " 576.62750393 601.93924657 571.9954242  588.95875414 578.42092046]\n",
      "Prix de cloture 123 [738.10164573 721.21670332 698.448323   689.43713959 725.40477559\n",
      " 710.94051017 713.44741493 699.29280959 654.41778925 696.96341847\n",
      " 685.62277218 717.41649238 727.31974569 682.23532179 712.64640133\n",
      " 746.86873294 681.97175654 745.41188698 676.98018213 700.6199134\n",
      " 699.69906848 700.3104703  677.38269287 684.0380562  681.97155227\n",
      " 708.82799008 708.91094809 760.10049696 737.01670317 686.23423246\n",
      " 708.77147963 726.92218548 700.82624926 698.11967738 701.39252345\n",
      " 723.41646898 677.09534588 691.20692434 712.70169491 708.40907093\n",
      " 706.46873452 690.01536851 726.25846631 757.61444267 710.97321833\n",
      " 694.78422906 720.4049878  685.44341881 679.75836069 700.88583619\n",
      " 630.26449091 668.84334018 690.60502989 663.45850083 672.11863625\n",
      " 688.20779489 655.63993707 689.0360615  685.54770556 700.68594063\n",
      " 731.16296882 704.65761925 700.56867458 702.68527034 706.13960493\n",
      " 672.54805649 696.90106623 708.33628353 662.98948047 723.37262892\n",
      " 729.19715293 682.95284831 693.48387963 676.28886074 718.88327306\n",
      " 671.34699824 693.99312072 676.80916249 701.37576548 651.55580967\n",
      " 735.81446434 673.95562655 701.61715644 694.26187779 679.42290818\n",
      " 676.02993631 725.28276068 685.80770399 707.32159499 678.35958409\n",
      " 682.52610134 712.75067305 725.1210294  695.26645714 661.60816347\n",
      " 753.94481415 676.87316868 658.37714021 770.04946387 689.09112807]\n"
     ]
    }
   ],
   "source": [
    "# Generer des donnees\n",
    "\n",
    "import numpy as np\n",
    "jours = 100\n",
    "donnees_ABC= np.random.normal(500, 25, jours)\n",
    "donnees_XYZ= np.random.normal(600, 26, jours)\n",
    "donnees_123= np.random.normal(700, 27, jours)\n",
    "print  (\"Prix de cloture ABC\", donnees_ABC)\n",
    "print  (\"Prix de cloture XYZ\", donnees_XYZ)\n",
    "print  (\"Prix de cloture 123\", donnees_123)"
   ]
  },
  {
   "cell_type": "code",
   "execution_count": 60,
   "id": "79e4714d",
   "metadata": {},
   "outputs": [
    {
     "name": "stdout",
     "output_type": "stream",
     "text": [
      "Le resultats des calculs statistiques pour l'entreprise ABC sont:\n",
      "Moyenne: 496.6262592459129\n",
      "Ecart_type: 25.075324107846008\n",
      "Minimum: 429.13613736813244\n",
      "Maximum: 559.5186337804937\n",
      "Le resultats des calculs statistiques pour l'entreprise XYZ sont:\n",
      "Moyenne: 596.7864186284069\n",
      "Ecart_type: 24.4826114949019\n",
      "Minimum: 541.6216371423435\n",
      "Maximum: 664.9272101812621\n",
      "Le resultats des calculs statistiques pour l'entreprise 123 sont:\n",
      "Moyenne: 699.2386234426045\n",
      "Ecart_type: 25.109111339295886\n",
      "Minimum: 630.2644909098115\n",
      "Maximum: 770.0494638697401\n"
     ]
    }
   ],
   "source": [
    "# Calcul des statistiques descriptives\n",
    "\n",
    "print (\"Le resultats des calculs statistiques pour l'entreprise ABC sont:\")\n",
    "Moyenne = np.mean(donnees_ABC)\n",
    "Ecart_type = np.std(donnees_ABC)\n",
    "minimum = np.min(donnees_ABC)\n",
    "maximum = np.max(donnees_ABC)\n",
    "print (\"Moyenne:\", Moyenne)\n",
    "print (\"Ecart_type:\", Ecart_type)\n",
    "print (\"Minimum:\", minimum)\n",
    "print (\"Maximum:\", maximum)\n",
    "\n",
    "print (\"Le resultats des calculs statistiques pour l'entreprise XYZ sont:\")\n",
    "Moyenne = np.mean(donnees_XYZ)\n",
    "Ecart_type = np.std(donnees_XYZ)\n",
    "minimum = np.min(donnees_XYZ)\n",
    "maximum = np.max(donnees_XYZ)\n",
    "print (\"Moyenne:\", Moyenne)\n",
    "print (\"Ecart_type:\", Ecart_type)\n",
    "print (\"Minimum:\", minimum)\n",
    "print (\"Maximum:\", maximum)\n",
    "\n",
    "print (\"Le resultats des calculs statistiques pour l'entreprise 123 sont:\")\n",
    "Moyenne = np.mean(donnees_123)\n",
    "Ecart_type = np.std(donnees_123)\n",
    "minimum = np.min(donnees_123)\n",
    "maximum = np.max(donnees_123)\n",
    "print (\"Moyenne:\", Moyenne)\n",
    "print (\"Ecart_type:\", Ecart_type)\n",
    "print (\"Minimum:\", minimum)\n",
    "print (\"Maximum:\", maximum)"
   ]
  },
  {
   "cell_type": "code",
   "execution_count": 77,
   "id": "59282e60",
   "metadata": {},
   "outputs": [
    {
     "name": "stdout",
     "output_type": "stream",
     "text": [
      "[0. 0. 0. 0. 0.]\n",
      "[1. 1. 1. 1.]\n",
      "[0 1 2 3 4 5 6 7]\n",
      "[1 2 3 4 5 6 7 8 9]\n",
      "[1 2 3 4 5 6 7 8]\n",
      "[[1 2]\n",
      " [3 4]\n",
      " [5 6]\n",
      " [7 8]]\n",
      "[[ 1  2  3  4  5  6  7  8  9 10 11 12]\n",
      " [13 14 15 16 17 18 19 20 21 22 23 24]]\n",
      "[array([[ 1,  2,  3],\n",
      "       [13, 14, 15]]), array([[ 4,  5,  6],\n",
      "       [16, 17, 18]]), array([[ 7,  8,  9],\n",
      "       [19, 20, 21]]), array([[10, 11, 12],\n",
      "       [22, 23, 24]])]\n"
     ]
    }
   ],
   "source": [
    "# Remplir tout un tableau avec la valeur 0\n",
    "b = np.zeros(5)\n",
    "print (b)\n",
    "\n",
    "# Remplir tout un tableau avec la valeur 4\n",
    "c = np.ones(4)\n",
    "print (c)\n",
    "\n",
    "# Remplir tout un tableau dont les valeurs vont de 1 a 9\n",
    "a = np.arange(8)\n",
    "print(a)\n",
    "\n",
    "# Trier mon tableau\n",
    "T = np.array([8, 2, 1, 9, 3, 5, 4, 7, 6])\n",
    "tab = np.sort(T)\n",
    "print (tab)\n",
    "\n",
    "# concatener deux tableau\n",
    "tab1 = np.array([1, 2, 3, 4])\n",
    "tab2 = np.array([5, 6, 7, 8])\n",
    "tb = np.concatenate((tab1, tab2))\n",
    "print (tb)\n",
    "\n",
    "# remodeler le tableau en plusieurs lignes et colonnes\n",
    "tb = tb.reshape(4, 2)\n",
    "print (tb)\n",
    "\n",
    "# remplir un tableau de 1 a 24 qui tient sur 2 lignes et 12 colonnes\n",
    "tabl = np.arange(1, 25).reshape(2, 12)\n",
    "print(tabl)\n",
    "\n",
    "# Divisez un tableau\n",
    "d = np.hsplit(tabl, 4)\n",
    "print (d)"
   ]
  },
  {
   "cell_type": "code",
   "execution_count": 82,
   "id": "40a88f91",
   "metadata": {},
   "outputs": [
    {
     "name": "stdout",
     "output_type": "stream",
     "text": [
      "[[1 1]\n",
      " [2 2]]\n",
      "[3 3]\n",
      "[2 4]\n"
     ]
    }
   ],
   "source": [
    "# On aura a la fin la somme des lignes sum(axis = 0) et la somme des colonnes sum(axis = 1)\n",
    "\n",
    "b = np.array([[1, 1], [2, 2]])\n",
    "print (b)\n",
    "print (b.sum(axis = 0))\n",
    "print (b.sum(axis = 1))"
   ]
  },
  {
   "cell_type": "code",
   "execution_count": 83,
   "id": "05f210f4",
   "metadata": {},
   "outputs": [
    {
     "name": "stdout",
     "output_type": "stream",
     "text": [
      "[11 12 13 14 15 16 18 20]\n"
     ]
    }
   ],
   "source": [
    "# recuperer les elements du tableau sans doublon\n",
    "\n",
    "a = np.array([12, 15, 11, 11, 12, 14, 16, 18, 16, 20, 20, 13, 11, 12, 14])\n",
    "b = np.unique(a)\n",
    "print (b)"
   ]
  },
  {
   "cell_type": "code",
   "execution_count": 84,
   "id": "21127654",
   "metadata": {},
   "outputs": [
    {
     "name": "stdout",
     "output_type": "stream",
     "text": [
      "[[ 1  2  3  4  5  6  7  8  9 10 11 12]\n",
      " [13 14 15 16 17 18 19 20 21 22 23 24]]\n"
     ]
    }
   ],
   "source": [
    "print(tabl)"
   ]
  },
  {
   "cell_type": "code",
   "execution_count": 87,
   "id": "0c1880ba",
   "metadata": {},
   "outputs": [
    {
     "name": "stdout",
     "output_type": "stream",
     "text": [
      "[[ 1 13]\n",
      " [ 2 14]\n",
      " [ 3 15]\n",
      " [ 4 16]\n",
      " [ 5 17]\n",
      " [ 6 18]\n",
      " [ 7 19]\n",
      " [ 8 20]\n",
      " [ 9 21]\n",
      " [10 22]\n",
      " [11 23]\n",
      " [12 24]]\n"
     ]
    }
   ],
   "source": [
    "# Transposer le tableau\n",
    "\n",
    "Tr = np.transpose(tabl)\n",
    "print (Tr)"
   ]
  },
  {
   "cell_type": "code",
   "execution_count": 88,
   "id": "48a46fad",
   "metadata": {},
   "outputs": [
    {
     "name": "stdout",
     "output_type": "stream",
     "text": [
      "[11 12 13 14 15 16 18 20]\n"
     ]
    }
   ],
   "source": [
    "print (b)"
   ]
  },
  {
   "cell_type": "code",
   "execution_count": 92,
   "id": "5ffd97a9",
   "metadata": {},
   "outputs": [
    {
     "name": "stdout",
     "output_type": "stream",
     "text": [
      "[20 18 16 15 14 13 12 11]\n",
      "[[24 23 22 21 20 19 18 17 16 15 14 13]\n",
      " [12 11 10  9  8  7  6  5  4  3  2  1]]\n"
     ]
    }
   ],
   "source": [
    "# Inverser mon tableau\n",
    "\n",
    "I = np.flip(b)\n",
    "print (I)\n"
   ]
  },
  {
   "cell_type": "code",
   "execution_count": 98,
   "id": "4a10a0a6",
   "metadata": {},
   "outputs": [
    {
     "name": "stdout",
     "output_type": "stream",
     "text": [
      "tableau tabl inverse\n",
      "[[24 23 22 21 20 19 18 17 16 15 14 13]\n",
      " [12 11 10  9  8  7  6  5  4  3  2  1]]\n",
      "tableau tabl avec les lignes inverses\n",
      "[[13 14 15 16 17 18 19 20 21 22 23 24]\n",
      " [ 1  2  3  4  5  6  7  8  9 10 11 12]]\n",
      "tableau tabl avec les colonnes inverses\n",
      "[[12 11 10  9  8  7  6  5  4  3  2  1]\n",
      " [24 23 22 21 20 19 18 17 16 15 14 13]]\n"
     ]
    }
   ],
   "source": [
    "# Inverser le tableau tabl\n",
    "print (\"tableau tabl inverse\")\n",
    "i = np.flip(tabl)\n",
    "print (i)\n",
    "\n",
    "# Inverser uniquement les lignes\n",
    "print (\"tableau tabl avec les lignes inverses\")\n",
    "i = np.flipud(tabl) # i = np.flip(tabl, axis = 0)\n",
    "print (i)\n",
    "\n",
    "# Inverser uniquement les colonnes\n",
    "print (\"tableau tabl avec les colonnes inverses\")\n",
    "i = np.fliplr(tabl) # i = np.flip(tabl, axis = 1)\n",
    "print (i)\n",
    "\n"
   ]
  },
  {
   "cell_type": "code",
   "execution_count": 99,
   "id": "8499a64f",
   "metadata": {},
   "outputs": [
    {
     "name": "stdout",
     "output_type": "stream",
     "text": [
      "[[ 3  4  5  6  7  8  9 10 11 12 13 14]\n",
      " [15 16 17 18 19 20 21 22 23 24  1  2]]\n"
     ]
    }
   ],
   "source": [
    "o = np.roll(tabl, -2)\n",
    "print (o)"
   ]
  },
  {
   "cell_type": "code",
   "execution_count": null,
   "id": "39da5694",
   "metadata": {},
   "outputs": [],
   "source": []
  }
 ],
 "metadata": {
  "kernelspec": {
   "display_name": "Python 3 (ipykernel)",
   "language": "python",
   "name": "python3"
  },
  "language_info": {
   "codemirror_mode": {
    "name": "ipython",
    "version": 3
   },
   "file_extension": ".py",
   "mimetype": "text/x-python",
   "name": "python",
   "nbconvert_exporter": "python",
   "pygments_lexer": "ipython3",
   "version": "3.11.5"
  }
 },
 "nbformat": 4,
 "nbformat_minor": 5
}
