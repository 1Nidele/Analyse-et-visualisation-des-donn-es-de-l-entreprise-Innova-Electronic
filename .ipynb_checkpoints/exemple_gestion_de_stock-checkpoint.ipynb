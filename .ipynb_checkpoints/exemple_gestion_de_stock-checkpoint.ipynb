{
 "cells": [
  {
   "cell_type": "code",
   "execution_count": 38,
   "id": "574fcdef",
   "metadata": {},
   "outputs": [
    {
     "name": "stdout",
     "output_type": "stream",
     "text": [
      "MENU\n",
      "1. Ajouter\n",
      "2. Rechercher\n",
      "3. Mettre a jour\n",
      "4. Afficher\n",
      "5 .Quitter\n",
      "Faites votre choix : 2\n",
      "Fonction pour rechercher ici\n",
      "Entrez le nom du produit: Pain\n",
      "Quantite = 50 PU = 550\n",
      "Le produit n'est pas disponible\n"
     ]
    }
   ],
   "source": [
    "#Gestion des stocks\n",
    "\n",
    "liste = [[\"Yaourt\", 20, 450], [\"Pain\", 50, 550], [\"sucre\", 10, 700]]\n",
    "\n",
    "def gestion(liste):\n",
    "    while True:\n",
    "        print (\"MENU\")\n",
    "        print (\"1. Ajouter\")\n",
    "        print (\"2. Rechercher\")\n",
    "        print (\"3. Mettre a jour\")\n",
    "        print (\"4. Afficher\")\n",
    "        print (\"5 .Quitter\")\n",
    "\n",
    "        choix=int(input(\"Faites votre choix : \"))\n",
    "\n",
    "        if choix == 1:\n",
    "            print (\"Fonction pour ajouter un produit\")\n",
    "            \n",
    "            nom=input(\"Entrez le nom du produit: \")\n",
    "            quantite=int(input(\"Entrez la quantite du produit: \"))\n",
    "            pu=int(input(\"Entrez le PU du produit: \"))\n",
    "            \n",
    "            liste1 = [nom, quantite, pu]\n",
    "            \n",
    "            liste.append (liste1)\n",
    "            print (liste)\n",
    "            \n",
    "        elif choix == 2:\n",
    "            print (\"Fonction pour rechercher ici\")\n",
    "            nom=input(\"Entrez le nom du produit: \")\n",
    "            for i in liste:\n",
    "                if nom == i[0]:\n",
    "                    print (\"Quantite =\", i[1], \"PU =\", i[2])\n",
    "                    break\n",
    "                else:\n",
    "                    print (\"Le produit n'est pas disponible\")\n",
    "                    break\n",
    "            \n",
    "        elif choix == 3:\n",
    "            print (\"Fonction pour mettre a jour ici\")\n",
    "            nom=input(\"Entrez le nom du produit: \")\n",
    "            for i in liste:\n",
    "                if nom == i[0]:\n",
    "                    pu=int(input(\"Entrez le nouveau PU du produit: \"))\n",
    "                    i[2] = pu\n",
    "                    print (liste)\n",
    "            \n",
    "        elif choix == 4:\n",
    "            print (\"Cout total des produits en stock\")\n",
    "            cout_total = 0\n",
    "            for i in liste:\n",
    "                cout_total = cout_total + (i[1] * i[2])\n",
    "            print (cout_total)\n",
    "            \n",
    "        elif choix == 5:\n",
    "            print (\"A Bientot\")\n",
    "            break\n",
    "        else:\n",
    "            print (\"Choix incorrect\")\n",
    "gestion(liste)"
   ]
  },
  {
   "cell_type": "code",
   "execution_count": 36,
   "id": "a76ee567",
   "metadata": {},
   "outputs": [
    {
     "name": "stdout",
     "output_type": "stream",
     "text": [
      "skrez\n"
     ]
    }
   ],
   "source": [
    "import random\n",
    "import string\n"
   ]
  },
  {
   "cell_type": "code",
   "execution_count": null,
   "id": "451a323d",
   "metadata": {},
   "outputs": [],
   "source": []
  }
 ],
 "metadata": {
  "kernelspec": {
   "display_name": "Python 3 (ipykernel)",
   "language": "python",
   "name": "python3"
  },
  "language_info": {
   "codemirror_mode": {
    "name": "ipython",
    "version": 3
   },
   "file_extension": ".py",
   "mimetype": "text/x-python",
   "name": "python",
   "nbconvert_exporter": "python",
   "pygments_lexer": "ipython3",
   "version": "3.11.5"
  }
 },
 "nbformat": 4,
 "nbformat_minor": 5
}
